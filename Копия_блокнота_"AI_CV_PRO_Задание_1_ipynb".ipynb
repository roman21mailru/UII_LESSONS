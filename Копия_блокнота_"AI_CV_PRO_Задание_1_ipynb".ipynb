{
  "nbformat": 4,
  "nbformat_minor": 0,
  "metadata": {
    "colab": {
      "provenance": [],
      "authorship_tag": "ABX9TyN2vhSfV+VZ6oNlS81pzTDn",
      "include_colab_link": true
    },
    "kernelspec": {
      "name": "python3",
      "display_name": "Python 3"
    },
    "language_info": {
      "name": "python"
    }
  },
  "cells": [
    {
      "cell_type": "markdown",
      "metadata": {
        "id": "view-in-github",
        "colab_type": "text"
      },
      "source": [
        "<a href=\"https://colab.research.google.com/github/roman21mailru/UII_LESSONS/blob/main/%D0%9A%D0%BE%D0%BF%D0%B8%D1%8F_%D0%B1%D0%BB%D0%BE%D0%BA%D0%BD%D0%BE%D1%82%D0%B0_%22AI_CV_PRO_%D0%97%D0%B0%D0%B4%D0%B0%D0%BD%D0%B8%D0%B5_1_ipynb%22.ipynb\" target=\"_parent\"><img src=\"https://colab.research.google.com/assets/colab-badge.svg\" alt=\"Open In Colab\"/></a>"
      ]
    },
    {
      "cell_type": "code",
      "execution_count": null,
      "metadata": {
        "colab": {
          "base_uri": "https://localhost:8080/"
        },
        "id": "zmyHO7q3eLm4",
        "outputId": "e64c30e4-9bee-4778-a4b8-3f0fa29515cc"
      },
      "outputs": [
        {
          "output_type": "execute_result",
          "data": {
            "text/plain": [
              "3"
            ]
          },
          "metadata": {},
          "execution_count": 1
        }
      ],
      "source": [
        "1+2"
      ]
    },
    {
      "cell_type": "markdown",
      "source": [
        "Это текст №1"
      ],
      "metadata": {
        "id": "ekbuWNt_eqdO"
      }
    },
    {
      "cell_type": "markdown",
      "source": [
        "Это текст №2"
      ],
      "metadata": {
        "id": "6QP6_otKeuXm"
      }
    }
  ]
}